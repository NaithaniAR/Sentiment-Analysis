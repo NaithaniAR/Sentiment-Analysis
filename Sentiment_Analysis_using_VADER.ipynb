{
  "cells": [
    {
      "cell_type": "markdown",
      "metadata": {
        "id": "view-in-github",
        "colab_type": "text"
      },
      "source": [
        "<a href=\"https://colab.research.google.com/github/NaithaniAR/Sentiment-Analysis/blob/main/Sentiment_Analysis_using_VADER.ipynb\" target=\"_parent\"><img src=\"https://colab.research.google.com/assets/colab-badge.svg\" alt=\"Open In Colab\"/></a>"
      ]
    },
    {
      "cell_type": "markdown",
      "metadata": {
        "id": "5n7LCeaR7C3l"
      },
      "source": [
        "# SENTIMENT ANALYSIS DEFINITION"
      ]
    },
    {
      "cell_type": "markdown",
      "metadata": {
        "id": "YWorrBFq7C3p"
      },
      "source": [
        "In sentiment analysis we classify the polarity of given text at document ,sentence or feature level.It tells us but the opinion of it whether is positive , negative or neutral. If we go more advance like beyond polarity we can go for emotional states like angry , sad and happy."
      ]
    },
    {
      "cell_type": "markdown",
      "metadata": {
        "id": "8Z-JTf-U7C3p"
      },
      "source": [
        "# INSTALLING VADER"
      ]
    },
    {
      "cell_type": "code",
      "execution_count": 1,
      "metadata": {
        "id": "sJ4SIDIy7C3p",
        "outputId": "cae9ecc6-0e5e-465b-af1d-6fbf4896e510",
        "colab": {
          "base_uri": "https://localhost:8080/"
        }
      },
      "outputs": [
        {
          "output_type": "stream",
          "name": "stdout",
          "text": [
            "Looking in indexes: https://pypi.org/simple, https://us-python.pkg.dev/colab-wheels/public/simple/\n",
            "Collecting vaderSentiment\n",
            "  Downloading vaderSentiment-3.3.2-py2.py3-none-any.whl (125 kB)\n",
            "\u001b[K     |████████████████████████████████| 125 kB 26.1 MB/s \n",
            "\u001b[?25hRequirement already satisfied: requests in /usr/local/lib/python3.7/dist-packages (from vaderSentiment) (2.23.0)\n",
            "Requirement already satisfied: certifi>=2017.4.17 in /usr/local/lib/python3.7/dist-packages (from requests->vaderSentiment) (2022.5.18.1)\n",
            "Requirement already satisfied: urllib3!=1.25.0,!=1.25.1,<1.26,>=1.21.1 in /usr/local/lib/python3.7/dist-packages (from requests->vaderSentiment) (1.24.3)\n",
            "Requirement already satisfied: chardet<4,>=3.0.2 in /usr/local/lib/python3.7/dist-packages (from requests->vaderSentiment) (3.0.4)\n",
            "Requirement already satisfied: idna<3,>=2.5 in /usr/local/lib/python3.7/dist-packages (from requests->vaderSentiment) (2.10)\n",
            "Installing collected packages: vaderSentiment\n",
            "Successfully installed vaderSentiment-3.3.2\n"
          ]
        }
      ],
      "source": [
        "! pip install vaderSentiment"
      ]
    },
    {
      "cell_type": "markdown",
      "metadata": {
        "id": "A8NaAJDh7C3r"
      },
      "source": [
        "# What is VADER ?"
      ]
    },
    {
      "cell_type": "markdown",
      "metadata": {
        "id": "wHDUVHLz7C3r"
      },
      "source": [
        "VADER stands for Valence Aware Dictionary and sEntiment Reasoner. It is a rule-based sentiment analyzer.It consists of a list of lexical features (e.g. words) which are generally labeled as per their semantic orientation as positive or negative.\n",
        "\n"
      ]
    },
    {
      "cell_type": "code",
      "execution_count": 2,
      "metadata": {
        "id": "y0DYdbeS7C3s"
      },
      "outputs": [],
      "source": [
        "from vaderSentiment.vaderSentiment import SentimentIntensityAnalyzer"
      ]
    },
    {
      "cell_type": "code",
      "execution_count": 3,
      "metadata": {
        "id": "1Y-rH3JJ7C3s"
      },
      "outputs": [],
      "source": [
        "obj = SentimentIntensityAnalyzer()"
      ]
    },
    {
      "cell_type": "code",
      "execution_count": 4,
      "metadata": {
        "id": "iWoP9iJE7C3t",
        "outputId": "c7ac3dd8-e7c2-49ea-d371-6f54f54ad294",
        "colab": {
          "base_uri": "https://localhost:8080/"
        }
      },
      "outputs": [
        {
          "output_type": "stream",
          "name": "stdout",
          "text": [
            "{'neg': 0.0, 'neu': 0.484, 'pos': 0.516, 'compound': 0.4927}\n"
          ]
        }
      ],
      "source": [
        "sentence = \"Ram is really good \"\n",
        "sentiment_dict = obj.polarity_scores(sentence)\n",
        "print(sentiment_dict)"
      ]
    },
    {
      "cell_type": "code",
      "execution_count": 5,
      "metadata": {
        "id": "xx3wpgLb7C3t",
        "outputId": "8db283fe-868a-471e-a017-99c216becdf4",
        "colab": {
          "base_uri": "https://localhost:8080/"
        }
      },
      "outputs": [
        {
          "output_type": "stream",
          "name": "stdout",
          "text": [
            "{'neg': 0.558, 'neu': 0.442, 'pos': 0.0, 'compound': -0.5849}\n"
          ]
        }
      ],
      "source": [
        "sentence = \"Rahul is really bad\"\n",
        "sentiment_dict = obj.polarity_scores(sentence)\n",
        "print(sentiment_dict)"
      ]
    },
    {
      "cell_type": "markdown",
      "metadata": {
        "id": "cyfnfcgF7C3u"
      },
      "source": [
        "# Things which manipulate the Sentiment score"
      ]
    },
    {
      "cell_type": "markdown",
      "metadata": {
        "id": "I6HmhiJ67C3u"
      },
      "source": [
        "# 1) PUNCTUATIONS : It increases the intensity"
      ]
    },
    {
      "cell_type": "code",
      "execution_count": 6,
      "metadata": {
        "id": "tAnjdmCd7C3u",
        "outputId": "f76cddff-b361-4b02-e4b3-b50316e2f11c",
        "colab": {
          "base_uri": "https://localhost:8080/"
        }
      },
      "outputs": [
        {
          "output_type": "stream",
          "name": "stdout",
          "text": [
            "{'neg': 0.0, 'neu': 0.508, 'pos': 0.492, 'compound': 0.4404}\n",
            "{'neg': 0.0, 'neu': 0.484, 'pos': 0.516, 'compound': 0.4926}\n",
            "{'neg': 0.0, 'neu': 0.463, 'pos': 0.537, 'compound': 0.5399}\n"
          ]
        }
      ],
      "source": [
        "print(obj.polarity_scores('Ram is good boy'))\n",
        "print(obj.polarity_scores('Ram is good boy!'))\n",
        "print(obj.polarity_scores('Ram is good boy!!'))"
      ]
    },
    {
      "cell_type": "markdown",
      "metadata": {
        "id": "ceyAyDkr7C3v"
      },
      "source": [
        "# 2) CAPITALIZATION : It increases the intensity"
      ]
    },
    {
      "cell_type": "code",
      "execution_count": 7,
      "metadata": {
        "id": "eW9RTv9v7C3v",
        "outputId": "89170d70-94e9-4a7b-f190-d29c3d43011d",
        "colab": {
          "base_uri": "https://localhost:8080/"
        }
      },
      "outputs": [
        {
          "output_type": "stream",
          "name": "stdout",
          "text": [
            "{'neg': 0.0, 'neu': 0.408, 'pos': 0.592, 'compound': 0.4404}\n",
            "{'neg': 0.0, 'neu': 0.355, 'pos': 0.645, 'compound': 0.5622}\n"
          ]
        }
      ],
      "source": [
        "print(obj.polarity_scores('Ram is good'))\n",
        "print(obj.polarity_scores('Ram is GOOD'))\n"
      ]
    },
    {
      "cell_type": "markdown",
      "metadata": {
        "id": "jB8uxsuZ7C3v"
      },
      "source": [
        "# 3) DEGREE MODIFIERS"
      ]
    },
    {
      "cell_type": "code",
      "execution_count": 8,
      "metadata": {
        "id": "Pn64DnbJ7C3v",
        "outputId": "daa304a3-f676-4fb0-e920-ea2ca3c8838c",
        "colab": {
          "base_uri": "https://localhost:8080/"
        }
      },
      "outputs": [
        {
          "output_type": "stream",
          "name": "stdout",
          "text": [
            "{'neg': 0.0, 'neu': 0.408, 'pos': 0.592, 'compound': 0.4404}\n",
            "{'neg': 0.0, 'neu': 0.484, 'pos': 0.516, 'compound': 0.4927}\n"
          ]
        }
      ],
      "source": [
        "print(obj.polarity_scores('Ram is good'))\n",
        "print(obj.polarity_scores('Ram is very good'))"
      ]
    },
    {
      "cell_type": "markdown",
      "metadata": {
        "id": "Vq1gkzXq7C3w"
      },
      "source": [
        "# 4) CONJUNCTIONS"
      ]
    },
    {
      "cell_type": "code",
      "execution_count": 9,
      "metadata": {
        "id": "t5JW9Jvk7C3w",
        "outputId": "79962235-db79-4598-cd8b-65012554fad2",
        "colab": {
          "base_uri": "https://localhost:8080/"
        }
      },
      "outputs": [
        {
          "output_type": "stream",
          "name": "stdout",
          "text": [
            "{'neg': 0.0, 'neu': 0.408, 'pos': 0.592, 'compound': 0.4404}\n",
            "{'neg': 0.0, 'neu': 1.0, 'pos': 0.0, 'compound': 0.0}\n"
          ]
        }
      ],
      "source": [
        "print(obj.polarity_scores('Ram is good'))\n",
        "print(obj.polarity_scores('Ram is good,but he is also naughty sometimes'))"
      ]
    },
    {
      "cell_type": "markdown",
      "metadata": {
        "id": "9fxyrsQR7C3w"
      },
      "source": [
        "# DOES VADER HANDLES SLANGS AND EMOTICONS ?"
      ]
    },
    {
      "cell_type": "code",
      "execution_count": 10,
      "metadata": {
        "id": "6K0X_Jpd7C3w",
        "outputId": "689f3de8-a0f5-479c-9869-ea5465d8a50d",
        "colab": {
          "base_uri": "https://localhost:8080/"
        }
      },
      "outputs": [
        {
          "output_type": "stream",
          "name": "stdout",
          "text": [
            "{'neg': 0.0, 'neu': 1.0, 'pos': 0.0, 'compound': 0.0}\n",
            "{'neg': 0.618, 'neu': 0.382, 'pos': 0.0, 'compound': -0.4995}\n"
          ]
        }
      ],
      "source": [
        "print(obj.polarity_scores(\"That Hotel\"))\n",
        "print(obj.polarity_scores(\"That Hotel SUX\"))"
      ]
    },
    {
      "cell_type": "code",
      "execution_count": 11,
      "metadata": {
        "id": "uA_EdWS27C3x",
        "outputId": "be350723-72dd-4404-9660-d573d3a7b8c3",
        "colab": {
          "base_uri": "https://localhost:8080/"
        }
      },
      "outputs": [
        {
          "output_type": "stream",
          "name": "stdout",
          "text": [
            "{'neg': 0.0, 'neu': 0.556, 'pos': 0.444, 'compound': 0.8016}\n",
            "{'neg': 0.0, 'neu': 0.574, 'pos': 0.426, 'compound': 0.7713}\n"
          ]
        }
      ],
      "source": [
        "print(obj.polarity_scores(\"Your :) is the most beautiful thing I have ever seen\"))\n",
        "print(obj.polarity_scores(\"Your smile is the most beautiful thing I have ever seen\"))"
      ]
    }
  ],
  "metadata": {
    "kernelspec": {
      "display_name": "Python 3",
      "language": "python",
      "name": "python3"
    },
    "language_info": {
      "codemirror_mode": {
        "name": "ipython",
        "version": 3
      },
      "file_extension": ".py",
      "mimetype": "text/x-python",
      "name": "python",
      "nbconvert_exporter": "python",
      "pygments_lexer": "ipython3",
      "version": "3.7.4"
    },
    "colab": {
      "name": "Sentiment Analysis using VADER.ipynb",
      "provenance": [],
      "include_colab_link": true
    }
  },
  "nbformat": 4,
  "nbformat_minor": 0
}